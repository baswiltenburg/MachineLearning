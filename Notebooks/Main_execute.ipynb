{
 "cells": [
  {
   "cell_type": "code",
   "execution_count": 1,
   "metadata": {
    "scrolled": true
   },
   "outputs": [
    {
     "name": "stderr",
     "output_type": "stream",
     "text": [
      "Using TensorFlow backend.\n"
     ]
    }
   ],
   "source": [
    "### Run sementic segmentation model U-net with pretrained weights ###\n",
    "import os\n",
    "os.chdir('E:/BasW/Notebooks') \n",
    "work_directory = os.getcwd()\n",
    "os.chdir(work_directory+'/Scripts')\n",
    "from DataCreation import *\n",
    "from DataPreprocessing import *\n",
    "from DataAugmentation import *\n",
    "from DataNormalization import *\n",
    "from Unet import unet\n",
    "import CreateResults as cr\n",
    "import tensorflow\n",
    "from keras.models import *\n",
    "from keras.layers import *\n",
    "from keras.optimizers import *\n",
    "from keras.callbacks import ModelCheckpoint, TensorBoard\n",
    "from keras import backend as keras\n",
    "os.chdir('../..') # --> ensures that work directory = E:/BasW/Notebooks\n",
    "work_directory = \"E:/BasW/Data\""
   ]
  },
  {
   "cell_type": "markdown",
   "metadata": {},
   "source": [
    "Set variables and directories"
   ]
  },
  {
   "cell_type": "code",
   "execution_count": 2,
   "metadata": {},
   "outputs": [],
   "source": [
    "# Set variables and path directories\n",
    "image_size = (256, 256) \n",
    "cell_size = 0.25 \n",
    "epsg = 28992    \n",
    "# Create N2000_DataPreparation object\n",
    "dp = N2000_DataPreparation(image_size = image_size)\n",
    "dn = DataNormalization(image_size = (256,256))"
   ]
  },
  {
   "cell_type": "markdown",
   "metadata": {},
   "source": [
    "Save testing data as h5 file (optional)"
   ]
  },
  {
   "cell_type": "code",
   "execution_count": 4,
   "metadata": {},
   "outputs": [],
   "source": [
    "dp.SaveTrainingData(path_training_data = f\"{work_directory}/Gras/testing/BGT/training_data_CirRgb\", name_file = 'BGT_CirRgb.h5')\n",
    "dp.SaveTrainingData(path_training_data = f\"{work_directory}/Gras/testing/BGT/training_data_Cir\", name_file = 'BGT_Cir.h5')\n",
    "dp.SaveTrainingData(path_training_data = f\"{work_directory}/Gras/testing/BGT/training_data_6channels\", name_file = 'BGT_6Channels.h5')\n",
    "dp.SaveTrainingData(path_training_data = f\"{work_directory}/Gras/testing/BGT/training_data_RgbNirNdviHeight\", name_file = 'BGT_RgbNirNdviHeight.h5')\n",
    "dp.SaveTrainingData(path_training_data = f\"{work_directory}/Gras/testing/Tuinen/training_data_CirRgb\", name_file = 'Tuinen_CirRgb.h5')\n",
    "dp.SaveTrainingData(path_training_data = f\"{work_directory}/Gras/testing/Tuinen/training_data_Cir\", name_file = 'Tuinen_Cir.h5')\n",
    "dp.SaveTrainingData(path_training_data = f\"{work_directory}/Gras/testing/Tuinen/training_data_6channels\", name_file = 'Tuinen_6Channels.h5')\n",
    "dp.SaveTrainingData(path_training_data = f\"{work_directory}/Gras/testing/Tuinen/training_data_RgbNirNdviHeight\", name_file = 'Tuinen_RgbNirNdviHeight.h5')"
   ]
  },
  {
   "cell_type": "code",
   "execution_count": 22,
   "metadata": {},
   "outputs": [],
   "source": [
    "path_mask_data = f\"{work_directory}/Gras/testing/Tuinen/training_data_CirRgb/mask\"\n",
    "files = os.listdir(path_mask_data)\n",
    "for file in files:\n",
    "    split = file.split(\"_\")\n",
    "    split[2] = \"CirRgb\"\n",
    "    newname = f\"{split[0]}_{split[1]}_{split[2]}_mask.tif\"\n",
    "    os.rename(f\"{path_mask_data}/{file}\", f\"{path_mask_data}/{newname}\")"
   ]
  },
  {
   "cell_type": "code",
   "execution_count": 93,
   "metadata": {},
   "outputs": [],
   "source": [
    "dp.SaveTrainingData(path_training_data = f\"{work_directory}/Gras/testing/BGT/training_data_RgbNirNdviHeight\", name_file = 'BGT_RgbNirNdviHeight.h5')"
   ]
  },
  {
   "cell_type": "code",
   "execution_count": null,
   "metadata": {},
   "outputs": [],
   "source": []
  },
  {
   "cell_type": "markdown",
   "metadata": {},
   "source": [
    "Run the U-net convolutional neural network on unseen data"
   ]
  },
  {
   "cell_type": "code",
   "execution_count": 122,
   "metadata": {},
   "outputs": [
    {
     "name": "stdout",
     "output_type": "stream",
     "text": [
      "Loaded model from disk\n"
     ]
    }
   ],
   "source": [
    "### Predictions of model X ###\n",
    "json_path = work_directory + \"/Gras/testing/BGT/grasBGTTesting.json\"\n",
    "geotiff_folder = work_directory + \"/Gras/predictions/Run6/BGT\"\n",
    "model_path = work_directory + \"/Gras/checkpoints/JsonModels/gras_run6.json\"\n",
    "model_weights = work_directory + \"/Gras/checkpoints/Run6_weights_best.h5\"\n",
    "\n",
    "# Open saved U-net model from json\n",
    "json_file = open(model_path, 'r')\n",
    "loaded_model_json = json_file.read()\n",
    "json_file.close()\n",
    "# Convert Json model to Tensorflow ConvNetmodel\n",
    "loaded_model = model_from_json(loaded_model_json)\n",
    "# Load weights into the model\n",
    "loaded_model.load_weights(model_weights)\n",
    "print(\"Loaded model from disk\")"
   ]
  },
  {
   "cell_type": "code",
   "execution_count": 123,
   "metadata": {},
   "outputs": [],
   "source": [
    "# Make predictions and write prediction to geotiff\n",
    "h5Path = f\"{work_directory}/Gras/testing/BGT/training_data_CirRgb/BGT_CirRgb.h5\"\n",
    "images, masks, filenames = cr.readH5File(h5Path)\n",
    "x_test = images\n",
    "y_test = masks"
   ]
  },
  {
   "cell_type": "code",
   "execution_count": 125,
   "metadata": {},
   "outputs": [
    {
     "data": {
      "text/plain": [
       "(140, 256, 256, 1)"
      ]
     },
     "execution_count": 125,
     "metadata": {},
     "output_type": "execute_result"
    }
   ],
   "source": [
    "y_test.shape"
   ]
  },
  {
   "cell_type": "code",
   "execution_count": 126,
   "metadata": {
    "scrolled": true
   },
   "outputs": [
    {
     "name": "stdout",
     "output_type": "stream",
     "text": [
      "119.63\n",
      "124.242\n",
      "118.687\n",
      "135.976\n"
     ]
    }
   ],
   "source": [
    "# Normalize test dataset \n",
    "stats_file = work_directory + \"/Gras/training/Run6/2016_2017_FromVegscan_NormalizationCirRgbPerBand.csv\"\n",
    "x_test = dn.NormalizeDataPerBand(h5_file = h5Path, stats_file=stats_file, mask = False)"
   ]
  },
  {
   "cell_type": "code",
   "execution_count": 127,
   "metadata": {},
   "outputs": [
    {
     "name": "stdout",
     "output_type": "stream",
     "text": [
      "(140, 256, 256, 4) (140, 256, 256, 1)\n",
      "-0.00858499 1.0000709 1.0\n",
      "140\n"
     ]
    }
   ],
   "source": [
    "print(x_test.shape, y_test.shape)\n",
    "print(np.min(x_test), np.max(x_test), np.max(y_test))\n",
    "print(len(filenames))"
   ]
  },
  {
   "cell_type": "code",
   "execution_count": 99,
   "metadata": {},
   "outputs": [
    {
     "name": "stdout",
     "output_type": "stream",
     "text": [
      "-0.27433628 1.0000529\n"
     ]
    },
    {
     "ename": "TypeError",
     "evalue": "Invalid dimensions for image data",
     "output_type": "error",
     "traceback": [
      "\u001b[1;31m---------------------------------------------------------------------------\u001b[0m",
      "\u001b[1;31mTypeError\u001b[0m                                 Traceback (most recent call last)",
      "\u001b[1;32m<ipython-input-99-ac34044b5aba>\u001b[0m in \u001b[0;36m<module>\u001b[1;34m\u001b[0m\n\u001b[0;32m      3\u001b[0m \u001b[0mmask_img\u001b[0m \u001b[1;33m=\u001b[0m \u001b[0my_test\u001b[0m\u001b[1;33m[\u001b[0m\u001b[1;36m8\u001b[0m\u001b[1;33m]\u001b[0m\u001b[1;33m\u001b[0m\u001b[1;33m\u001b[0m\u001b[0m\n\u001b[0;32m      4\u001b[0m \u001b[0mprint\u001b[0m\u001b[1;33m(\u001b[0m\u001b[0mnp\u001b[0m\u001b[1;33m.\u001b[0m\u001b[0mmin\u001b[0m\u001b[1;33m(\u001b[0m\u001b[0mtrain_img\u001b[0m\u001b[1;33m)\u001b[0m\u001b[1;33m,\u001b[0m \u001b[0mnp\u001b[0m\u001b[1;33m.\u001b[0m\u001b[0mmax\u001b[0m\u001b[1;33m(\u001b[0m\u001b[0mtrain_img\u001b[0m\u001b[1;33m)\u001b[0m\u001b[1;33m)\u001b[0m\u001b[1;33m\u001b[0m\u001b[1;33m\u001b[0m\u001b[0m\n\u001b[1;32m----> 5\u001b[1;33m \u001b[0mplt\u001b[0m\u001b[1;33m.\u001b[0m\u001b[0mimshow\u001b[0m\u001b[1;33m(\u001b[0m\u001b[0mtrain_img\u001b[0m\u001b[1;33m)\u001b[0m\u001b[1;33m\u001b[0m\u001b[1;33m\u001b[0m\u001b[0m\n\u001b[0m\u001b[0;32m      6\u001b[0m \u001b[0mplt\u001b[0m\u001b[1;33m.\u001b[0m\u001b[0mshow\u001b[0m\u001b[1;33m(\u001b[0m\u001b[1;33m)\u001b[0m\u001b[1;33m\u001b[0m\u001b[1;33m\u001b[0m\u001b[0m\n",
      "\u001b[1;32mC:\\Anaconda\\envs\\BasTensorflow\\lib\\site-packages\\matplotlib\\pyplot.py\u001b[0m in \u001b[0;36mimshow\u001b[1;34m(X, cmap, norm, aspect, interpolation, alpha, vmin, vmax, origin, extent, shape, filternorm, filterrad, imlim, resample, url, data, **kwargs)\u001b[0m\n\u001b[0;32m   2697\u001b[0m         \u001b[0mfilternorm\u001b[0m\u001b[1;33m=\u001b[0m\u001b[0mfilternorm\u001b[0m\u001b[1;33m,\u001b[0m \u001b[0mfilterrad\u001b[0m\u001b[1;33m=\u001b[0m\u001b[0mfilterrad\u001b[0m\u001b[1;33m,\u001b[0m \u001b[0mimlim\u001b[0m\u001b[1;33m=\u001b[0m\u001b[0mimlim\u001b[0m\u001b[1;33m,\u001b[0m\u001b[1;33m\u001b[0m\u001b[1;33m\u001b[0m\u001b[0m\n\u001b[0;32m   2698\u001b[0m         resample=resample, url=url, **({\"data\": data} if data is not\n\u001b[1;32m-> 2699\u001b[1;33m         None else {}), **kwargs)\n\u001b[0m\u001b[0;32m   2700\u001b[0m     \u001b[0msci\u001b[0m\u001b[1;33m(\u001b[0m\u001b[0m__ret\u001b[0m\u001b[1;33m)\u001b[0m\u001b[1;33m\u001b[0m\u001b[1;33m\u001b[0m\u001b[0m\n\u001b[0;32m   2701\u001b[0m     \u001b[1;32mreturn\u001b[0m \u001b[0m__ret\u001b[0m\u001b[1;33m\u001b[0m\u001b[1;33m\u001b[0m\u001b[0m\n",
      "\u001b[1;32mC:\\Anaconda\\envs\\BasTensorflow\\lib\\site-packages\\matplotlib\\__init__.py\u001b[0m in \u001b[0;36minner\u001b[1;34m(ax, data, *args, **kwargs)\u001b[0m\n\u001b[0;32m   1808\u001b[0m                         \u001b[1;34m\"the Matplotlib list!)\"\u001b[0m \u001b[1;33m%\u001b[0m \u001b[1;33m(\u001b[0m\u001b[0mlabel_namer\u001b[0m\u001b[1;33m,\u001b[0m \u001b[0mfunc\u001b[0m\u001b[1;33m.\u001b[0m\u001b[0m__name__\u001b[0m\u001b[1;33m)\u001b[0m\u001b[1;33m,\u001b[0m\u001b[1;33m\u001b[0m\u001b[1;33m\u001b[0m\u001b[0m\n\u001b[0;32m   1809\u001b[0m                         RuntimeWarning, stacklevel=2)\n\u001b[1;32m-> 1810\u001b[1;33m             \u001b[1;32mreturn\u001b[0m \u001b[0mfunc\u001b[0m\u001b[1;33m(\u001b[0m\u001b[0max\u001b[0m\u001b[1;33m,\u001b[0m \u001b[1;33m*\u001b[0m\u001b[0margs\u001b[0m\u001b[1;33m,\u001b[0m \u001b[1;33m**\u001b[0m\u001b[0mkwargs\u001b[0m\u001b[1;33m)\u001b[0m\u001b[1;33m\u001b[0m\u001b[1;33m\u001b[0m\u001b[0m\n\u001b[0m\u001b[0;32m   1811\u001b[0m \u001b[1;33m\u001b[0m\u001b[0m\n\u001b[0;32m   1812\u001b[0m         inner.__doc__ = _add_data_doc(inner.__doc__,\n",
      "\u001b[1;32mC:\\Anaconda\\envs\\BasTensorflow\\lib\\site-packages\\matplotlib\\axes\\_axes.py\u001b[0m in \u001b[0;36mimshow\u001b[1;34m(self, X, cmap, norm, aspect, interpolation, alpha, vmin, vmax, origin, extent, shape, filternorm, filterrad, imlim, resample, url, **kwargs)\u001b[0m\n\u001b[0;32m   5492\u001b[0m                               resample=resample, **kwargs)\n\u001b[0;32m   5493\u001b[0m \u001b[1;33m\u001b[0m\u001b[0m\n\u001b[1;32m-> 5494\u001b[1;33m         \u001b[0mim\u001b[0m\u001b[1;33m.\u001b[0m\u001b[0mset_data\u001b[0m\u001b[1;33m(\u001b[0m\u001b[0mX\u001b[0m\u001b[1;33m)\u001b[0m\u001b[1;33m\u001b[0m\u001b[1;33m\u001b[0m\u001b[0m\n\u001b[0m\u001b[0;32m   5495\u001b[0m         \u001b[0mim\u001b[0m\u001b[1;33m.\u001b[0m\u001b[0mset_alpha\u001b[0m\u001b[1;33m(\u001b[0m\u001b[0malpha\u001b[0m\u001b[1;33m)\u001b[0m\u001b[1;33m\u001b[0m\u001b[1;33m\u001b[0m\u001b[0m\n\u001b[0;32m   5496\u001b[0m         \u001b[1;32mif\u001b[0m \u001b[0mim\u001b[0m\u001b[1;33m.\u001b[0m\u001b[0mget_clip_path\u001b[0m\u001b[1;33m(\u001b[0m\u001b[1;33m)\u001b[0m \u001b[1;32mis\u001b[0m \u001b[1;32mNone\u001b[0m\u001b[1;33m:\u001b[0m\u001b[1;33m\u001b[0m\u001b[1;33m\u001b[0m\u001b[0m\n",
      "\u001b[1;32mC:\\Anaconda\\envs\\BasTensorflow\\lib\\site-packages\\matplotlib\\image.py\u001b[0m in \u001b[0;36mset_data\u001b[1;34m(self, A)\u001b[0m\n\u001b[0;32m    636\u001b[0m         if not (self._A.ndim == 2\n\u001b[0;32m    637\u001b[0m                 or self._A.ndim == 3 and self._A.shape[-1] in [3, 4]):\n\u001b[1;32m--> 638\u001b[1;33m             \u001b[1;32mraise\u001b[0m \u001b[0mTypeError\u001b[0m\u001b[1;33m(\u001b[0m\u001b[1;34m\"Invalid dimensions for image data\"\u001b[0m\u001b[1;33m)\u001b[0m\u001b[1;33m\u001b[0m\u001b[1;33m\u001b[0m\u001b[0m\n\u001b[0m\u001b[0;32m    639\u001b[0m \u001b[1;33m\u001b[0m\u001b[0m\n\u001b[0;32m    640\u001b[0m         \u001b[1;32mif\u001b[0m \u001b[0mself\u001b[0m\u001b[1;33m.\u001b[0m\u001b[0m_A\u001b[0m\u001b[1;33m.\u001b[0m\u001b[0mndim\u001b[0m \u001b[1;33m==\u001b[0m \u001b[1;36m3\u001b[0m\u001b[1;33m:\u001b[0m\u001b[1;33m\u001b[0m\u001b[1;33m\u001b[0m\u001b[0m\n",
      "\u001b[1;31mTypeError\u001b[0m: Invalid dimensions for image data"
     ]
    },
    {
     "data": {
      "image/png": "[encoded data removed]",
      "text/plain": [
       "<Figure size 432x288 with 1 Axes>"
      ]
     },
     "metadata": {
      "needs_background": "light"
     },
     "output_type": "display_data"
    }
   ],
   "source": [
    "# PLOT IMAGE ##\n",
    "train_img = x_test[8]\n",
    "mask_img = y_test[8]\n",
    "print(np.min(train_img), np.max(train_img))\n",
    "plt.imshow(train_img)\n",
    "plt.show()"
   ]
  },
  {
   "cell_type": "code",
   "execution_count": 119,
   "metadata": {},
   "outputs": [
    {
     "data": {
      "image/png": "[encoded data removed]",
      "text/plain": [
       "<Figure size 432x288 with 1 Axes>"
      ]
     },
     "metadata": {
      "needs_background": "light"
     },
     "output_type": "display_data"
    }
   ],
   "source": [
    "## PLOT MASK ##\n",
    "mask_img = mask_img.reshape(256,256)\n",
    "plt.imshow(mask_img)\n",
    "plt.show()"
   ]
  },
  {
   "cell_type": "code",
   "execution_count": 128,
   "metadata": {},
   "outputs": [],
   "source": [
    "for i in range(len(x_test)):\n",
    "    j = i+1\n",
    "    image = x_test[i:j]\n",
    "    filename = filenames[i:j][0]\n",
    "    prediction = loaded_model.predict(image, batch_size = 32)\n",
    "    prediction = np.squeeze(prediction, axis = 0)\n",
    "    cr.writeGeoTiff(json_path, prediction, filename, geotiff_folder)"
   ]
  },
  {
   "cell_type": "code",
   "execution_count": 22,
   "metadata": {},
   "outputs": [],
   "source": [
    "#cr.vectorizePrediction(geotiff_folder, cat = 'bgt_gras_prob90', prob_treshold = 0.9)\n",
    "#cr.vectorizePrediction(geotiff_folder, cat = 'bgt_gras_prob75', prob_treshold = 0.75)\n",
    "#cr.vectorizePrediction(geotiff_folder, cat = 'bgt_gras6channels_prob25', prob_treshold = 0.25)\n",
    "cr.vectorizePrediction(geotiff_folder, cat = 'GrasFromVegScanner_prob50', prob_treshold = 0.50)"
   ]
  },
  {
   "cell_type": "code",
   "execution_count": 9,
   "metadata": {},
   "outputs": [
    {
     "data": {
      "text/plain": [
       "['0_2016_h5130',\n",
       " '100_2016_h5130',\n",
       " '101_2016_h5130',\n",
       " '102_2016_h5130',\n",
       " '103_2016_h5130',\n",
       " '104_2016_h5130',\n",
       " '105_2016_h5130',\n",
       " '106_2016_h5130',\n",
       " '107_2016_h5130',\n",
       " '108_2016_h5130',\n",
       " '109_2016_h5130',\n",
       " '10_2016_h5130',\n",
       " '110_2016_h5130',\n",
       " '111_2016_h5130',\n",
       " '112_2016_h5130',\n",
       " '113_2016_h5130',\n",
       " '114_2016_h5130',\n",
       " '115_2016_h5130',\n",
       " '116_2016_h5130',\n",
       " '117_2016_h5130',\n",
       " '118_2016_h5130',\n",
       " '119_2016_h5130',\n",
       " '11_2016_h5130',\n",
       " '120_2016_h5130',\n",
       " '121_2016_h5130',\n",
       " '122_2016_h5130',\n",
       " '123_2016_h5130',\n",
       " '124_2016_h5130',\n",
       " '125_2016_h5130',\n",
       " '126_2016_h5130',\n",
       " '127_2016_h5130',\n",
       " '128_2016_h5130',\n",
       " '129_2016_h5130',\n",
       " '12_2016_h5130',\n",
       " '130_2016_h5130',\n",
       " '131_2016_h5130',\n",
       " '132_2016_h5130',\n",
       " '133_2016_h5130',\n",
       " '134_2016_h5130',\n",
       " '135_2016_h5130',\n",
       " '136_2016_h5130',\n",
       " '137_2016_h5130',\n",
       " '138_2016_h5130',\n",
       " '139_2016_h5130',\n",
       " '13_2016_h5130',\n",
       " '14_2016_h5130',\n",
       " '15_2016_h5130',\n",
       " '16_2016_h5130',\n",
       " '17_2016_h5130',\n",
       " '18_2016_h5130',\n",
       " '19_2016_h5130',\n",
       " '1_2016_h5130',\n",
       " '20_2016_h5130',\n",
       " '21_2016_h5130',\n",
       " '22_2016_h5130',\n",
       " '23_2016_h5130',\n",
       " '24_2016_h5130',\n",
       " '25_2016_h5130',\n",
       " '26_2016_h5130',\n",
       " '27_2016_h5130',\n",
       " '28_2016_h5130',\n",
       " '29_2016_h5130',\n",
       " '2_2016_h5130',\n",
       " '30_2016_h5130',\n",
       " '31_2016_h5130',\n",
       " '32_2016_h5130',\n",
       " '33_2016_h5130',\n",
       " '34_2016_h5130',\n",
       " '35_2016_h5130',\n",
       " '36_2016_h5130',\n",
       " '37_2016_h5130',\n",
       " '38_2016_h5130',\n",
       " '39_2016_h5130',\n",
       " '3_2016_h5130',\n",
       " '40_2016_h5130',\n",
       " '41_2016_h5130',\n",
       " '42_2016_h5130',\n",
       " '43_2016_h5130',\n",
       " '44_2016_h5130',\n",
       " '45_2016_h5130',\n",
       " '46_2016_h5130',\n",
       " '47_2016_h5130',\n",
       " '48_2016_h5130',\n",
       " '49_2016_h5130',\n",
       " '4_2016_h5130',\n",
       " '50_2016_h5130',\n",
       " '51_2016_h5130',\n",
       " '52_2016_h5130',\n",
       " '53_2016_h5130',\n",
       " '54_2016_h5130',\n",
       " '55_2016_h5130',\n",
       " '56_2016_h5130',\n",
       " '57_2016_h5130',\n",
       " '58_2016_h5130',\n",
       " '59_2016_h5130',\n",
       " '5_2016_h5130',\n",
       " '60_2016_h5130',\n",
       " '61_2016_h5130',\n",
       " '62_2016_h5130',\n",
       " '63_2016_h5130',\n",
       " '64_2016_h5130',\n",
       " '65_2016_h5130',\n",
       " '66_2016_h5130',\n",
       " '67_2016_h5130',\n",
       " '68_2016_h5130',\n",
       " '69_2016_h5130',\n",
       " '6_2016_h5130',\n",
       " '70_2016_h5130',\n",
       " '71_2016_h5130',\n",
       " '72_2016_h5130',\n",
       " '73_2016_h5130',\n",
       " '74_2016_h5130',\n",
       " '75_2016_h5130',\n",
       " '76_2016_h5130',\n",
       " '77_2016_h5130',\n",
       " '78_2016_h5130',\n",
       " '79_2016_h5130',\n",
       " '7_2016_h5130',\n",
       " '80_2016_h5130',\n",
       " '81_2016_h5130',\n",
       " '82_2016_h5130',\n",
       " '83_2016_h5130',\n",
       " '84_2016_h5130',\n",
       " '85_2016_h5130',\n",
       " '86_2016_h5130',\n",
       " '87_2016_h5130',\n",
       " '88_2016_h5130',\n",
       " '89_2016_h5130',\n",
       " '8_2016_h5130',\n",
       " '90_2016_h5130',\n",
       " '91_2016_h5130',\n",
       " '92_2016_h5130',\n",
       " '93_2016_h5130',\n",
       " '94_2016_h5130',\n",
       " '95_2016_h5130',\n",
       " '96_2016_h5130',\n",
       " '97_2016_h5130',\n",
       " '98_2016_h5130',\n",
       " '99_2016_h5130',\n",
       " '9_2016_h5130']"
      ]
     },
     "execution_count": 9,
     "metadata": {},
     "output_type": "execute_result"
    }
   ],
   "source": [
    "filenames"
   ]
  },
  {
   "cell_type": "code",
   "execution_count": null,
   "metadata": {},
   "outputs": [],
   "source": []
  },
  {
   "cell_type": "code",
   "execution_count": null,
   "metadata": {},
   "outputs": [],
   "source": []
  },
  {
   "cell_type": "code",
   "execution_count": null,
   "metadata": {},
   "outputs": [],
   "source": [
    "# SHOW RESULTS ON TEST SET --> OUD --> NOT GEOTIFF\n",
    "\n",
    "import scipy\n",
    "predictions = loaded_model.predict(x_test, batch_size = 4)\n",
    "predictions = predictions[0:20]\n",
    "\n",
    "for i in range(len(predictions)):\n",
    "    pred =  predictions[i].reshape(512,512)\n",
    "    img = x_test[i]\n",
    "    gt = y_test[i].reshape(512,512)\n",
    "\n",
    "    scipy.misc.imsave(geotiff_folder + '/Test_img_' +str(i)+\".tif\", img)\n",
    "    scipy.misc.imsave(geotiff_folder + '/Test_gt_' + str(i)+\".tif\", gt)\n",
    "    scipy.misc.imsave(geotiff_folder + '/Test_prediction_'+str(i)+\".tif\", pred)"
   ]
  }
 ],
 "metadata": {
  "kernelspec": {
   "display_name": "Python (BasTensorflow)",
   "language": "python",
   "name": "bastensorflow"
  },
  "language_info": {
   "codemirror_mode": {
    "name": "ipython",
    "version": 3
   },
   "file_extension": ".py",
   "mimetype": "text/x-python",
   "name": "python",
   "nbconvert_exporter": "python",
   "pygments_lexer": "ipython3",
   "version": "3.6.8"
  }
 },
 "nbformat": 4,
 "nbformat_minor": 2
}
