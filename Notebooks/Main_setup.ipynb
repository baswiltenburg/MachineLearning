{
 "cells": [
  {
   "cell_type": "code",
   "execution_count": 1,
   "metadata": {},
   "outputs": [
    {
     "name": "stderr",
     "output_type": "stream",
     "text": [
      "Using TensorFlow backend.\n"
     ]
    }
   ],
   "source": [
    "### Set-up for training a U-net convolutional neural network for sementic segmentation ###\n",
    "import os\n",
    "os.chdir('E:/BasW/Notebooks') \n",
    "work_directory = os.getcwd()\n",
    "os.chdir(work_directory+'/Scripts')\n",
    "from DataCreation import *\n",
    "from DataPreprocessing import *\n",
    "from DataAugmentation import *\n",
    "from DataNormalization import *\n",
    "from Unet import *\n",
    "from random import sample\n",
    "import tensorflow\n",
    "from keras import backend as keras\n",
    "from keras.models import *\n",
    "from keras.layers import *\n",
    "from keras.optimizers import *\n",
    "from keras.callbacks import ModelCheckpoint, TensorBoard\n",
    "from keras.callbacks import EarlyStopping, ModelCheckpoint, ReduceLROnPlateau, CSVLogger\n",
    "os.chdir('../..') # --> ensures that work directory = E:/BasW/Notebooks\n",
    "work_directory = os.getcwd()\n",
    "path_training_data = \"E:/BasW/Data/Gras\""
   ]
  },
  {
   "cell_type": "markdown",
   "metadata": {},
   "source": [
    "Set variables and directories"
   ]
  },
  {
   "cell_type": "code",
   "execution_count": 2,
   "metadata": {},
   "outputs": [],
   "source": [
    "# Create processing objects\n",
    "dc = N2000_Data(image_size = (256,256), cell_size = 0.25, epsg = 28992)\n",
    "dp = N2000_DataPreparation(image_size = (256,256))\n",
    "dn = DataNormalization(image_size = (256,256))"
   ]
  },
  {
   "cell_type": "markdown",
   "metadata": {},
   "source": [
    "Create 4 dimensional images"
   ]
  },
  {
   "cell_type": "code",
   "execution_count": 25,
   "metadata": {},
   "outputs": [],
   "source": [
    "#cir_path = f\"{path_training_data}/Images/BGT/2016_2017_RgbCir/training_data\"\n",
    "#rgb_path = f\"{path_training_data}/Images/BGT/2016_2017_RgbCir/training_data\"\n",
    "path_data = f\"{path_training_data}/Images/FromVegScan/training_data\"\n",
    "#dc.create4dimensionalImage(path_rgb_data = rgb_path, path_cir_data = cir_path, dest_folder = path_data, name = 'h5130.tif')"
   ]
  },
  {
   "cell_type": "markdown",
   "metadata": {},
   "source": [
    "Compute nomalization statistics"
   ]
  },
  {
   "cell_type": "code",
   "execution_count": 26,
   "metadata": {},
   "outputs": [
    {
     "name": "stdout",
     "output_type": "stream",
     "text": [
      "(2048, 256, 256, 4)\n"
     ]
    }
   ],
   "source": [
    "## READ DATA IN A NUMPY ARRAY ##\n",
    "#cir_array = dp.ImagesToArray(img_folder = cir_path, mask = False)\n",
    "#rgb_array = dp.ImagesToArray(img_folder = path_data, mask = False)\n",
    "cir_rgb_array = dp.ImagesToArray(img_folder = path_data, mask = False)\n",
    "#print(cir_rgb_array.shape)\n",
    "print(cir_rgb_array.shape)"
   ]
  },
  {
   "cell_type": "code",
   "execution_count": 27,
   "metadata": {},
   "outputs": [
    {
     "name": "stdout",
     "output_type": "stream",
     "text": [
      "119.630\n",
      "40.313\n",
      "-2.447\n",
      "3.358\n",
      "124.242\n",
      "36.115\n",
      "-2.831\n",
      "3.621\n",
      "118.687\n",
      "36.066\n",
      "-2.903\n",
      "3.780\n",
      "135.976\n",
      "38.626\n",
      "-3.236\n",
      "3.081\n",
      "124.442\n",
      "38.484\n",
      "-2.948\n",
      "3.393\n",
      "11.000\n",
      "255.000\n"
     ]
    }
   ],
   "source": [
    "## CALCULATE NORMALIZATION STATISTICS ##\n",
    "stats_cir_rgb = dn.CalculateNormalizationStatisticsPerBand(np_array = cir_rgb_array, csv_folder = path_data, csv_name= \"2016_2017_FromVegScan_NormalizationCirRgbPerBand.csv\", bands = 4)\n",
    "stats_cir_rgb2 = dn.CalculateNormalizationStatistics(np_array = cir_rgb_array, csv_folder = path_data, csv_name= '2016_2017_FromVegScan_NormalizationCirRgb.csv')\n",
    "#stats_rgb = dn.CalculateNormalizationStatisticsPerBand(np_array = rgb_array, csv_folder = rgb_path, csv_name= \"2017_2018_Totaal_NormalizationRgbPerBand.csv\", bands = 3)\n",
    "#stats_rgb2 = dn.CalculateNormalizationStatistics(np_array = rgb_array, csv_folder = rgb_path, csv_name= '2017_2018_Totaal_NormalizationRgb.csv')"
   ]
  },
  {
   "cell_type": "code",
   "execution_count": 29,
   "metadata": {},
   "outputs": [],
   "source": [
    "### SAVE FOLDER OF IMAGES AS H5 FILE WITH FILENAMES ###\n",
    "path_data = f\"{path_training_data}/Images/FromVegScan/training_data\"\n",
    "dp.SaveTrainingData(path_data, '2016_2017_FromVegScan_CirRgb.h5')"
   ]
  },
  {
   "cell_type": "markdown",
   "metadata": {},
   "source": [
    "Load and preprocess data\n",
    "\n",
    "- Devide image data in training- validation and test set\n",
    "- Perform data augmentation on training- and validation ses"
   ]
  },
  {
   "cell_type": "code",
   "execution_count": 30,
   "metadata": {
    "scrolled": true
   },
   "outputs": [
    {
     "name": "stdout",
     "output_type": "stream",
     "text": [
      "(2436, 256, 256, 4) (2436, 256, 256, 1)\n",
      "(712, 256, 256, 4) (712, 256, 256, 1)\n"
     ]
    }
   ],
   "source": [
    "# RUN FUNCTIONS VERSION 1: ONE H5 Files # \n",
    "folder = path_training_data+\"/training/Run6\"\n",
    "h5Path = path_training_data + \"/training/Run6/2016_2017_FromVegScan_CirRgb.h5\"\n",
    "x_train, y_train, x_val, y_val, x_test, y_test, filenamesTest = dp.DevideData(path_dataset = h5Path, csv_folder = folder, test_size=0, validation_size=0.25) \n",
    "\n",
    "# Create N2000_DataAugmentation object \n",
    "# Data augmentation on training dataset\n",
    "da = N2000_DataAugmentation(x_train, y_train)\n",
    "x_train_hf, y_train_hf = da.HorizontalFlip(batch_size = 150)\n",
    "x_train_vf, y_train_vf = da.VerticalFlip(batch_size = 150)\n",
    "x_train_rr, y_train_rr = da.RandomRotation(batch_size =600)\n",
    "# Data augmentation on validation set\n",
    "da2 = N2000_DataAugmentation(x_val, y_val)\n",
    "x_val_hf, y_val_hf = da2.HorizontalFlip(batch_size = 40)\n",
    "x_val_vf, y_val_vf = da2.VerticalFlip(batch_size = 40)\n",
    "x_val_rr, y_val_rr = da2.RandomRotation(batch_size =120)\n",
    "\n",
    "# Merge original training data with data augmentation\n",
    "x_train_total = np.concatenate([x_train,x_train_hf, x_train_vf, x_train_rr])\n",
    "y_train_total = np.concatenate([y_train,y_train_hf, y_train_vf, y_train_rr])\n",
    "x_val_total = np.concatenate([x_val,x_val_hf, x_val_vf, x_val_rr])\n",
    "y_val_total = np.concatenate([y_val,y_val_hf, y_val_vf, y_val_rr])\n",
    "print(x_train_total.shape, y_train_total.shape)\n",
    "print(x_val_total.shape, y_val_total.shape)"
   ]
  },
  {
   "cell_type": "code",
   "execution_count": 4,
   "metadata": {},
   "outputs": [
    {
     "name": "stdout",
     "output_type": "stream",
     "text": [
      "(1709, 256, 256, 6) (1709, 256, 256, 1)\n",
      "(470, 256, 256, 6) (470, 256, 256, 1)\n"
     ]
    }
   ],
   "source": [
    "# RUN FUNCTIONS VERSION 2: TWO H5 Files (OPTIONAL) #\n",
    "# DATA AUGMENTATION OF MANUAL ADDITIONS #\n",
    "folder = path_training_data+\"/training/Run5\"\n",
    "h5Path = path_training_data + \"/training/Run5/2016_2017_Manueel_RgbNirNdviHeight.h5\"\n",
    "h5Path2 = path_training_data + \"/training/Run5/2016_2017_BGT_RgbNirNdviHeight.h5\"\n",
    "x_train, y_train, x_val, y_val, x_test, y_test, filenamesTest = dp.DevideData(path_dataset = h5Path, csv_folder = folder, test_size=0, validation_size=0.25) \n",
    "x_train2, y_train2, x_val2, y_val2, x_test2, y_test2, filenamesTest2 = dp.DevideData(path_dataset = h5Path2, csv_folder = folder, test_size=0, validation_size=0.25) \n",
    "\n",
    "# Create N2000_DataAugmentation object \n",
    "# Data augmentation on training dataset\n",
    "da = N2000_DataAugmentation(x_train, y_train)\n",
    "x_train_hf, y_train_hf = da.HorizontalFlip(batch_size = 150)\n",
    "x_train_vf, y_train_vf = da.VerticalFlip(batch_size = 150)\n",
    "x_train_rr, y_train_rr = da.RandomRotation(batch_size =600)\n",
    "# Data augmentation on validation set\n",
    "da2 = N2000_DataAugmentation(x_val, y_val)\n",
    "x_val_hf, y_val_hf = da2.HorizontalFlip(batch_size = 40)\n",
    "x_val_vf, y_val_vf = da2.VerticalFlip(batch_size = 40)\n",
    "x_val_rr, y_val_rr = da2.RandomRotation(batch_size =120)\n",
    "\n",
    "# Merge original training data with data augmentation\n",
    "x_train_total = np.concatenate([x_train,x_train_hf, x_train_vf, x_train_rr, x_train2])\n",
    "y_train_total = np.concatenate([y_train,y_train_hf, y_train_vf, y_train_rr, y_train2])\n",
    "x_val_total = np.concatenate([x_val,x_val_hf, x_val_vf, x_val_rr, x_val2])\n",
    "y_val_total = np.concatenate([y_val,y_val_hf, y_val_vf, y_val_rr, y_val2])\n",
    "print(x_train_total.shape, y_train_total.shape)\n",
    "print(x_val_total.shape, y_val_total.shape)"
   ]
  },
  {
   "cell_type": "markdown",
   "metadata": {},
   "source": [
    "Save training and validation dataset as separate H5-file"
   ]
  },
  {
   "cell_type": "code",
   "execution_count": 31,
   "metadata": {},
   "outputs": [
    {
     "name": "stdout",
     "output_type": "stream",
     "text": [
      "2436 712\n"
     ]
    }
   ],
   "source": [
    "filenames = []\n",
    "for i in range(len(x_train_total)):\n",
    "    filename = f\"{i}_trainImage\"\n",
    "    filenames.append(filename)\n",
    "filenames_val = []\n",
    "for i in range(len(x_val_total)):\n",
    "    filename = f\"{i}_validationImage\"\n",
    "    filenames_val.append(filename)\n",
    "filenames_val = [n.encode(\"ascii\", \"ignore\") for n in filenames_val]\n",
    "filenames = [n.encode(\"ascii\", \"ignore\") for n in filenames]\n",
    "print(len(filenames), len(filenames_val))\n",
    "# Write training dataset en validation dataset to h5-file\n",
    "dp.writeH5file(images = x_train_total, masks = y_train_total, filenames = filenames, dest_h5_file = path_training_data+\"/training/Run6/2016_2017_FromVegScan_CirRgb_Training_Run6.h5\")\n",
    "dp.writeH5file(images = x_val_total, masks = y_val_total, filenames = filenames_val, dest_h5_file = path_training_data+\"/training/Run6/2016_2017_FromVegScan_Validation_Run6.h5\")"
   ]
  },
  {
   "cell_type": "markdown",
   "metadata": {},
   "source": [
    "Load and normalize the data before training"
   ]
  },
  {
   "cell_type": "markdown",
   "metadata": {},
   "source": [
    "Load and normalize the data before training"
   ]
  },
  {
   "cell_type": "code",
   "execution_count": 32,
   "metadata": {},
   "outputs": [
    {
     "name": "stdout",
     "output_type": "stream",
     "text": [
      "119.63\n",
      "124.242\n",
      "118.687\n",
      "135.976\n",
      "119.63\n",
      "124.242\n",
      "118.687\n",
      "135.976\n",
      "(2436, 256, 256, 4) (2436, 256, 256, 1)\n",
      "1.0000709 -0.094416745 1.0 0.0\n",
      "(712, 256, 256, 4) (712, 256, 256, 1)\n",
      "1.0000709 -0.094416745 1.0 0.0\n"
     ]
    }
   ],
   "source": [
    "stats = path_training_data+\"/training/Run6/2016_2017_FromVegScan_NormalizationCirRgbPerBand.csv\"\n",
    "h5_train = path_training_data+\"/training/Run6/2016_2017_FromVegScan_CirRgb_Training_Run6.h5\"\n",
    "h5_val = path_training_data+\"/training/Run6/2016_2017_FromVegScan_Validation_Run6.h5\"\n",
    "x_train_total, y_train_total, filenames = dp.loadH5file(h5_train)\n",
    "x_val_total, y_val_total, filenames = dp.loadH5file(h5_val)\n",
    "x_train_total = dn.NormalizeDataPerBand(stats_file = stats, h5_file = h5_train)\n",
    "x_val_total = dn.NormalizeDataPerBand(stats_file = stats, h5_file = h5_val)\n",
    "print(x_train_total.shape, y_train_total.shape)\n",
    "print(np.max(x_train_total), np.min(x_train_total), np.max(y_train_total), np.min(y_train_total))\n",
    "print(x_val_total.shape, y_val_total.shape)\n",
    "print(np.max(x_val_total), np.min(x_val_total), np.max(y_val_total), np.min(y_val_total)) "
   ]
  },
  {
   "cell_type": "code",
   "execution_count": 33,
   "metadata": {},
   "outputs": [],
   "source": [
    "# Initialize Unet model\n",
    "folder_checkpoints = \"E:/BasW/Data/Gras/checkpoints\"\n",
    "model = unet(input_size = (256, 256, 4), lr=0.00001, drop_out = 0.1)\n",
    "#model.load_weights(filepath = folder_checkpoints + \"/gras_bgt_Weights_run9.h5\")"
   ]
  },
  {
   "cell_type": "code",
   "execution_count": 34,
   "metadata": {
    "scrolled": true
   },
   "outputs": [
    {
     "name": "stdout",
     "output_type": "stream",
     "text": [
      "Train on 2436 samples, validate on 712 samples\n",
      "Epoch 1/45\n",
      " - 58s - loss: 0.4637 - acc: 0.7255 - val_loss: 0.3825 - val_acc: 0.7229\n",
      "\n",
      "Epoch 00001: val_acc improved from -inf to 0.72287, saving model to E:/BasW/Data/Gras/checkpoints/Run6_weights_best.h5\n",
      "Epoch 2/45\n",
      " - 55s - loss: 0.3610 - acc: 0.8098 - val_loss: 0.3556 - val_acc: 0.8150\n",
      "\n",
      "Epoch 00002: val_acc improved from 0.72287 to 0.81504, saving model to E:/BasW/Data/Gras/checkpoints/Run6_weights_best.h5\n",
      "Epoch 3/45\n",
      " - 55s - loss: 0.3392 - acc: 0.8208 - val_loss: 0.3380 - val_acc: 0.8220\n",
      "\n",
      "Epoch 00003: val_acc improved from 0.81504 to 0.82200, saving model to E:/BasW/Data/Gras/checkpoints/Run6_weights_best.h5\n",
      "Epoch 4/45\n",
      " - 55s - loss: 0.3281 - acc: 0.8236 - val_loss: 0.3314 - val_acc: 0.8255\n",
      "\n",
      "Epoch 00004: val_acc improved from 0.82200 to 0.82549, saving model to E:/BasW/Data/Gras/checkpoints/Run6_weights_best.h5\n",
      "Epoch 5/45\n",
      " - 55s - loss: 0.3220 - acc: 0.8254 - val_loss: 0.3254 - val_acc: 0.8278\n",
      "\n",
      "Epoch 00005: val_acc improved from 0.82549 to 0.82780, saving model to E:/BasW/Data/Gras/checkpoints/Run6_weights_best.h5\n",
      "Epoch 6/45\n",
      " - 55s - loss: 0.3190 - acc: 0.8290 - val_loss: 0.3215 - val_acc: 0.8324\n",
      "\n",
      "Epoch 00006: val_acc improved from 0.82780 to 0.83240, saving model to E:/BasW/Data/Gras/checkpoints/Run6_weights_best.h5\n",
      "Epoch 7/45\n",
      " - 55s - loss: 0.3136 - acc: 0.8323 - val_loss: 0.3169 - val_acc: 0.8346\n",
      "\n",
      "Epoch 00007: val_acc improved from 0.83240 to 0.83456, saving model to E:/BasW/Data/Gras/checkpoints/Run6_weights_best.h5\n",
      "Epoch 8/45\n",
      " - 55s - loss: 0.3139 - acc: 0.8286 - val_loss: 0.3214 - val_acc: 0.8273\n",
      "\n",
      "Epoch 00008: val_acc did not improve from 0.83456\n",
      "Epoch 9/45\n",
      " - 55s - loss: 0.3106 - acc: 0.8313 - val_loss: 0.3154 - val_acc: 0.8342\n",
      "\n",
      "Epoch 00009: val_acc did not improve from 0.83456\n",
      "Epoch 10/45\n",
      " - 55s - loss: 0.3060 - acc: 0.8362 - val_loss: 0.3188 - val_acc: 0.8279\n",
      "\n",
      "Epoch 00010: val_acc did not improve from 0.83456\n",
      "Epoch 11/45\n",
      " - 55s - loss: 0.3123 - acc: 0.8268 - val_loss: 0.3170 - val_acc: 0.8279\n",
      "\n",
      "Epoch 00011: val_acc did not improve from 0.83456\n",
      "Epoch 12/45\n",
      " - 55s - loss: 0.3100 - acc: 0.8282 - val_loss: 0.3167 - val_acc: 0.8280\n",
      "\n",
      "Epoch 00012: val_acc did not improve from 0.83456\n",
      "Epoch 13/45\n",
      " - 55s - loss: 0.3096 - acc: 0.8284 - val_loss: 0.3160 - val_acc: 0.8283\n",
      "\n",
      "Epoch 00013: val_acc did not improve from 0.83456\n",
      "Epoch 00013: early stopping\n"
     ]
    }
   ],
   "source": [
    "# Checkpoints\n",
    "folder_checkpoints = \"E:/BasW/Data/Gras/checkpoints\"\n",
    "checkpoint1 = ModelCheckpoint((folder_checkpoints + '/Run6_weights_best.h5'), monitor='val_acc', verbose = 1, save_best_only=True, mode = \"max\", period = 1)\n",
    "# Early stopping\n",
    "es = EarlyStopping(monitor='val_loss', mode='min', verbose=1, patience = 4)\n",
    "# Tensorboard\n",
    "tensorboard = TensorBoard(log_dir= folder_checkpoints + '/tensorboard/Run6/', write_graph=True, write_images=True)\n",
    "# Reduce learning rate on plateu\n",
    "reduce_lr = ReduceLROnPlateau(monitor='val_loss', factor=0.2, patience=2, min_lr=0.0000001)\n",
    "\n",
    "# CSV Logger\n",
    "csv_logger = CSVLogger(folder_checkpoints + '/Run6_trainingHistory.csv', append = True, separator = ',')\n",
    "\n",
    "calbacks_list = [checkpoint1, es, tensorboard, csv_logger, reduce_lr]\n",
    "\n",
    "# Model training\n",
    "history =  model.fit(x_train_total, y_train_total, validation_data = (x_val_total, y_val_total), batch_size=32, epochs=45, verbose=2, shuffle=True, callbacks=calbacks_list)"
   ]
  },
  {
   "cell_type": "code",
   "execution_count": 35,
   "metadata": {},
   "outputs": [
    {
     "name": "stdout",
     "output_type": "stream",
     "text": [
      "Saved model to json\n",
      "Saved model to disk\n"
     ]
    }
   ],
   "source": [
    "import pickle\n",
    "with open(folder_checkpoints + '/Run6_trainHistory', 'wb') as file_pi:\n",
    "    pickle.dump(history.history, file_pi)\n",
    "\n",
    "model_json = model.to_json()\n",
    "with open(folder_checkpoints + \"/JsonModels/gras_run6.json\", \"w\") as json_file:\n",
    "    json_file.write(model_json)\n",
    "print(\"Saved model to json\")\n",
    "\n",
    "model.save_weights(folder_checkpoints + \"/gras_Weights_run6.h5\")\n",
    "print(\"Saved model to disk\")\n",
    "\n",
    "from keras import backend as K\n",
    "K.clear_session()"
   ]
  },
  {
   "cell_type": "code",
   "execution_count": null,
   "metadata": {},
   "outputs": [],
   "source": []
  },
  {
   "cell_type": "code",
   "execution_count": null,
   "metadata": {},
   "outputs": [],
   "source": []
  },
  {
   "cell_type": "code",
   "execution_count": null,
   "metadata": {},
   "outputs": [],
   "source": []
  },
  {
   "cell_type": "code",
   "execution_count": null,
   "metadata": {},
   "outputs": [],
   "source": []
  },
  {
   "cell_type": "code",
   "execution_count": null,
   "metadata": {},
   "outputs": [],
   "source": []
  },
  {
   "cell_type": "code",
   "execution_count": null,
   "metadata": {},
   "outputs": [],
   "source": []
  },
  {
   "cell_type": "code",
   "execution_count": null,
   "metadata": {},
   "outputs": [],
   "source": []
  },
  {
   "cell_type": "code",
   "execution_count": 29,
   "metadata": {},
   "outputs": [],
   "source": [
    "import pickle\n",
    "with open(folder_checkpoints + '/Run2_trainHistory', 'wb') as file_pi:\n",
    "    pickle.dump(history.history, file_pi)\n",
    "# import json\n",
    "# with open('file.json', 'w') as f:\n",
    "#     json.dump(history.history, f)"
   ]
  },
  {
   "cell_type": "code",
   "execution_count": 30,
   "metadata": {
    "scrolled": true
   },
   "outputs": [
    {
     "data": {
      "image/png": "[encoded data removed]",
      "text/plain": [
       "<Figure size 432x288 with 1 Axes>"
      ]
     },
     "metadata": {
      "needs_background": "light"
     },
     "output_type": "display_data"
    }
   ],
   "source": [
    "from matplotlib import pyplot\n",
    "# plot training history\n",
    "pyplot.plot(history.history['loss'], label='train')\n",
    "pyplot.plot(history.history['val_loss'], label='test')\n",
    "pyplot.legend()\n",
    "pyplot.show()"
   ]
  },
  {
   "cell_type": "code",
   "execution_count": 31,
   "metadata": {},
   "outputs": [
    {
     "data": {
      "image/png": "[encoded data removed]",
      "text/plain": [
       "<Figure size 432x288 with 1 Axes>"
      ]
     },
     "metadata": {
      "needs_background": "light"
     },
     "output_type": "display_data"
    }
   ],
   "source": [
    "pyplot.plot(history.history['acc'], label='train')\n",
    "pyplot.plot(history.history['val_acc'], label='test')\n",
    "pyplot.legend()\n",
    "pyplot.show()"
   ]
  },
  {
   "cell_type": "code",
   "execution_count": 14,
   "metadata": {},
   "outputs": [
    {
     "ename": "NameError",
     "evalue": "name 'x_test' is not defined",
     "output_type": "error",
     "traceback": [
      "\u001b[1;31m---------------------------------------------------------------------------\u001b[0m",
      "\u001b[1;31mNameError\u001b[0m                                 Traceback (most recent call last)",
      "\u001b[1;32m<ipython-input-14-5c4f49820e89>\u001b[0m in \u001b[0;36m<module>\u001b[1;34m\u001b[0m\n\u001b[0;32m      1\u001b[0m \u001b[1;31m# evaluate the model\u001b[0m\u001b[1;33m\u001b[0m\u001b[1;33m\u001b[0m\u001b[1;33m\u001b[0m\u001b[0m\n\u001b[0;32m      2\u001b[0m \u001b[0m_\u001b[0m\u001b[1;33m,\u001b[0m \u001b[0mtrain_acc\u001b[0m \u001b[1;33m=\u001b[0m \u001b[0mmodel\u001b[0m\u001b[1;33m.\u001b[0m\u001b[0mevaluate\u001b[0m\u001b[1;33m(\u001b[0m\u001b[0mx_train\u001b[0m\u001b[1;33m,\u001b[0m \u001b[0my_train\u001b[0m\u001b[1;33m,\u001b[0m \u001b[0mverbose\u001b[0m\u001b[1;33m=\u001b[0m\u001b[1;36m0\u001b[0m\u001b[1;33m)\u001b[0m\u001b[1;33m\u001b[0m\u001b[1;33m\u001b[0m\u001b[0m\n\u001b[1;32m----> 3\u001b[1;33m \u001b[0m_\u001b[0m\u001b[1;33m,\u001b[0m \u001b[0mtest_acc\u001b[0m \u001b[1;33m=\u001b[0m \u001b[0mmodel\u001b[0m\u001b[1;33m.\u001b[0m\u001b[0mevaluate\u001b[0m\u001b[1;33m(\u001b[0m\u001b[0mx_test\u001b[0m\u001b[1;33m,\u001b[0m \u001b[0my_test\u001b[0m\u001b[1;33m,\u001b[0m \u001b[0mverbose\u001b[0m\u001b[1;33m=\u001b[0m\u001b[1;36m0\u001b[0m\u001b[1;33m)\u001b[0m\u001b[1;33m\u001b[0m\u001b[1;33m\u001b[0m\u001b[0m\n\u001b[0m\u001b[0;32m      4\u001b[0m \u001b[0mprint\u001b[0m\u001b[1;33m(\u001b[0m\u001b[1;34m'Train: %.3f, Test: %.3f'\u001b[0m \u001b[1;33m%\u001b[0m \u001b[1;33m(\u001b[0m\u001b[0mtrain_acc\u001b[0m\u001b[1;33m,\u001b[0m \u001b[0mtest_acc\u001b[0m\u001b[1;33m)\u001b[0m\u001b[1;33m)\u001b[0m\u001b[1;33m\u001b[0m\u001b[1;33m\u001b[0m\u001b[0m\n",
      "\u001b[1;31mNameError\u001b[0m: name 'x_test' is not defined"
     ]
    }
   ],
   "source": [
    "# evaluate the model\n",
    "_, train_acc = model.evaluate(x_train, y_train, verbose=0)\n",
    "#_, test_acc = model.evaluate(x_test, y_test, verbose=0)\n",
    "print('Train: %.3f, Test: %.3f' % (train_acc, test_acc))"
   ]
  },
  {
   "cell_type": "code",
   "execution_count": 32,
   "metadata": {},
   "outputs": [],
   "source": [
    "# serialize model to JSON\n",
    "model_json = model.to_json()\n",
    "with open(folder_checkpoints + \"/JsonModels/VegScanModel_run8.json\", \"w\") as json_file:\n",
    "    json_file.write(model_json)"
   ]
  },
  {
   "cell_type": "code",
   "execution_count": 33,
   "metadata": {},
   "outputs": [
    {
     "name": "stdout",
     "output_type": "stream",
     "text": [
      "Saved model to disk\n"
     ]
    }
   ],
   "source": [
    "model.save_weights(folder_checkpoints + \"/VegScanModelWeights_run8.h5\")\n",
    "print(\"Saved model to disk\")"
   ]
  },
  {
   "cell_type": "code",
   "execution_count": 34,
   "metadata": {},
   "outputs": [],
   "source": [
    "# Clear session after training model (GPU Memory usage)\n",
    "from keras import backend as K\n",
    "K.clear_session()"
   ]
  },
  {
   "cell_type": "code",
   "execution_count": null,
   "metadata": {},
   "outputs": [],
   "source": []
  }
 ],
 "metadata": {
  "kernelspec": {
   "display_name": "Python (BasTensorflow)",
   "language": "python",
   "name": "bastensorflow"
  },
  "language_info": {
   "codemirror_mode": {
    "name": "ipython",
    "version": 3
   },
   "file_extension": ".py",
   "mimetype": "text/x-python",
   "name": "python",
   "nbconvert_exporter": "python",
   "pygments_lexer": "ipython3",
   "version": "3.6.8"
  }
 },
 "nbformat": 4,
 "nbformat_minor": 2
}
